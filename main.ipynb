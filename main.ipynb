{
 "cells": [
  {
   "cell_type": "code",
   "execution_count": 1,
   "id": "402f628c",
   "metadata": {},
   "outputs": [],
   "source": [
    "import os"
   ]
  },
  {
   "cell_type": "markdown",
   "id": "25d6c128",
   "metadata": {},
   "source": [
    "# 新词发现"
   ]
  },
  {
   "cell_type": "code",
   "execution_count": 2,
   "id": "d7790aec",
   "metadata": {},
   "outputs": [],
   "source": [
    "os.chdir('./0-1.WordsDiscovery/')"
   ]
  },
  {
   "cell_type": "code",
   "execution_count": 6,
   "id": "6e98a3f7",
   "metadata": {},
   "outputs": [
    {
     "name": "stdout",
     "output_type": "stream",
     "text": [
      "/paddle/nlp-notebook/0-1.WordsDiscovery\r\n"
     ]
    }
   ],
   "source": [
    "!pwd"
   ]
  },
  {
   "cell_type": "code",
   "execution_count": 4,
   "id": "a0d8fba2",
   "metadata": {},
   "outputs": [],
   "source": [
    "from word_discovery import NewWords"
   ]
  },
  {
   "cell_type": "code",
   "execution_count": 5,
   "id": "5261292d",
   "metadata": {},
   "outputs": [
    {
     "name": "stdout",
     "output_type": "stream",
     "text": [
      "主要 {'pmi': 10.448116305409464, 'freq': 2, 'entropy': 1.0}\n",
      "辉瑞 {'pmi': 10.448116305409464, 'freq': 2, 'entropy': 1.0}\n",
      "NA {'pmi': 10.448116305409464, 'freq': 2, 'entropy': 1.0}\n",
      "数据 {'pmi': 10.448116305409464, 'freq': 2, 'entropy': 1.0}\n",
      "死亡 {'pmi': 10.448116305409464, 'freq': 2, 'entropy': 1.0}\n",
      "莫德纳 {'pmi': 10.448116305409464, 'freq': 2, 'entropy': 1.0}\n",
      "病毒 {'pmi': 9.448116305409464, 'freq': 2, 'entropy': 1.0}\n",
      "新加 {'pmi': 9.448116305409464, 'freq': 2, 'entropy': 1.0}\n",
      "今年 {'pmi': 9.448116305409464, 'freq': 2, 'entropy': 1.0}\n",
      "案例 {'pmi': 9.448116305409464, 'freq': 2, 'entropy': 1.0}\n",
      "个国家 {'pmi': 9.448116305409464, 'freq': 2, 'entropy': 1.0}\n",
      "其中 {'pmi': 9.1261882105221, 'freq': 2, 'entropy': 1.0}\n",
      "使用 {'pmi': 9.1261882105221, 'freq': 4, 'entropy': 1.5}\n",
      "试验 {'pmi': 9.1261882105221, 'freq': 5, 'entropy': 1.3709505944546687}\n",
      "结果 {'pmi': 9.1261882105221, 'freq': 4, 'entropy': 1.5}\n",
      "制成 {'pmi': 9.03307880613062, 'freq': 3, 'entropy': 1.584962500721156}\n",
      "例如 {'pmi': 8.863153804688308, 'freq': 2, 'entropy': 1.0}\n",
      "三宗 {'pmi': 8.863153804688308, 'freq': 2, 'entropy': 1.0}\n",
      "保护率 {'pmi': 8.863153804688308, 'freq': 4, 'entropy': 1.5}\n",
      "年1月 {'pmi': 8.863153804688308, 'freq': 2, 'entropy': 1.0}\n",
      "有效性 {'pmi': 8.640761383351858, 'freq': 2, 'entropy': 1.0}\n",
      "接种 {'pmi': 8.318833288464496, 'freq': 4, 'entropy': 2.0}\n",
      "科兴 {'pmi': 8.1261882105221, 'freq': 10, 'entropy': 1.3567796494470397}\n",
      "下2 {'pmi': 8.055798882630704, 'freq': 2, 'entropy': 1.0}\n"
     ]
    }
   ],
   "source": [
    "discover = NewWords()\n",
    "discover.parse('''中国科兴生物研发的克尔来福是一种灭活疫苗，由已杀灭的病原体制成，主要通过其中的抗原诱导细胞免疫的产生。另外几种疫苗，例如莫德纳和辉瑞的疫苗都属于核糖核酸疫苗，使用的是RNA疫苗原理，抽取病毒内部分核糖核酸编码蛋白制成疫苗。新加坡南洋理工大学感染与免疫副教授罗大海对BBC表示，“克尔来福是用比较传统的方法制成的（灭活）疫苗，灭活疫苗使用广泛而且非常成功，例如狂犬病疫苗。”理论上，科兴疫苗主要的优势在于它能够在常规冰箱温度下（2至8摄氏度）保存，这一点和牛津/阿斯利康研发的病毒载体疫苗有相同优点。莫德纳的疫苗必须存放在摄氏零下20度，而辉瑞疫苗必须存放在摄氏零下70度。这意味着科兴和牛津/阿斯利康这两种疫苗，更能有效地在发展中国家使用，因为那些地方可能没有足够的低温储存设备供疫苗保存。但是，相对于最新加入接种行列的单剂疫苗 — 美国杨森和中国康希诺 — 而言，科兴疫苗仍需注射两针。疫苗谣言的打破：改变DNA、植入微芯片等疫苗阴谋论。新冠疫苗接种在即，你该了解的四大问题。效果如何？科兴疫苗三期临床试验在4个国家展开，各国试验结果相差较大，有效性从50% - 90%不等。从2021年1月以来，至少有7个国家先后批准科兴疫苗紧急使用。不过到目前为止它的三期临床整体有效性数据仍未公布。截止今年3月8日，香港有10多万人接种第一剂科兴疫苗，虽然近期出现三宗接种科兴疫苗后死亡的案例，但港府新冠疫苗临床事件评估专家委员会对三宗案例的调查结果称科兴疫苗与死亡并无直接关系。今年1月13日，科兴董事长在谷物元联防联控机制发布会上给出一组数据：土耳其中期分析结果显示该疫苗保护率91.25%；印尼三期临床试验保护率65.3%；巴西三期临床试验从2020年10月开始，试验结果显示重症保护率达100%，对高危人群总体保护率达50.3%。''')\n",
    "for k, v in discover.candidates():\n",
    "    print(k, v)   "
   ]
  },
  {
   "cell_type": "markdown",
   "id": "8f3a1c3b",
   "metadata": {},
   "source": [
    "# word2vec"
   ]
  },
  {
   "cell_type": "code",
   "execution_count": 7,
   "id": "ffbe4ba3",
   "metadata": {},
   "outputs": [],
   "source": [
    "os.chdir('/paddle/nlp-notebook/1-1.Word2Vec/')"
   ]
  },
  {
   "cell_type": "code",
   "execution_count": 8,
   "id": "62e3a3d0",
   "metadata": {},
   "outputs": [
    {
     "name": "stdout",
     "output_type": "stream",
     "text": [
      "Traceback (most recent call last):\r\n",
      "  File \"train.py\", line 53, in <module>\r\n",
      "    model.to(device)\r\n",
      "  File \"/usr/local/lib/python3.7/dist-packages/torch/nn/modules/module.py\", line 907, in to\r\n",
      "    return self._apply(convert)\r\n",
      "  File \"/usr/local/lib/python3.7/dist-packages/torch/nn/modules/module.py\", line 578, in _apply\r\n",
      "    module._apply(fn)\r\n",
      "  File \"/usr/local/lib/python3.7/dist-packages/torch/nn/modules/module.py\", line 601, in _apply\r\n",
      "    param_applied = fn(param)\r\n",
      "  File \"/usr/local/lib/python3.7/dist-packages/torch/nn/modules/module.py\", line 905, in convert\r\n",
      "    return t.to(device, dtype if t.is_floating_point() or t.is_complex() else None, non_blocking)\r\n",
      "RuntimeError: CUDA error: out of memory\r\n",
      "CUDA kernel errors might be asynchronously reported at some other API call,so the stacktrace below might be incorrect.\r\n",
      "For debugging consider passing CUDA_LAUNCH_BLOCKING=1.\r\n"
     ]
    }
   ],
   "source": [
    "!python train.py"
   ]
  },
  {
   "cell_type": "code",
   "execution_count": 9,
   "id": "9d15965a",
   "metadata": {},
   "outputs": [
    {
     "name": "stdout",
     "output_type": "stream",
     "text": [
      "Mon Jun 13 08:57:13 2022       \n",
      "+-----------------------------------------------------------------------------+\n",
      "| NVIDIA-SMI 470.57.02    Driver Version: 470.57.02    CUDA Version: 11.4     |\n",
      "|-------------------------------+----------------------+----------------------+\n",
      "| GPU  Name        Persistence-M| Bus-Id        Disp.A | Volatile Uncorr. ECC |\n",
      "| Fan  Temp  Perf  Pwr:Usage/Cap|         Memory-Usage | GPU-Util  Compute M. |\n",
      "|                               |                      |               MIG M. |\n",
      "|===============================+======================+======================|\n",
      "|   0  Tesla T4            Off  | 00000000:00:06.0 Off |                    0 |\n",
      "| N/A   71C    P0    66W /  70W |  14949MiB / 15109MiB |    100%      Default |\n",
      "|                               |                      |                  N/A |\n",
      "+-------------------------------+----------------------+----------------------+\n",
      "|   1  Tesla T4            Off  | 00000000:00:07.0 Off |                    0 |\n",
      "| N/A   72C    P0    70W /  70W |  13014MiB / 15109MiB |    100%      Default |\n",
      "|                               |                      |                  N/A |\n",
      "+-------------------------------+----------------------+----------------------+\n",
      "|   2  Tesla T4            Off  | 00000000:00:08.0 Off |                    0 |\n",
      "| N/A   71C    P0    74W /  70W |  13855MiB / 15109MiB |    100%      Default |\n",
      "|                               |                      |                  N/A |\n",
      "+-------------------------------+----------------------+----------------------+\n",
      "|   3  Tesla T4            Off  | 00000000:00:09.0 Off |                    0 |\n",
      "| N/A   69C    P0    79W /  70W |   8302MiB / 15109MiB |    100%      Default |\n",
      "|                               |                      |                  N/A |\n",
      "+-------------------------------+----------------------+----------------------+\n",
      "                                                                               \n",
      "+-----------------------------------------------------------------------------+\n",
      "| Processes:                                                                  |\n",
      "|  GPU   GI   CI        PID   Type   Process name                  GPU Memory |\n",
      "|        ID   ID                                                   Usage      |\n",
      "|=============================================================================|\n",
      "+-----------------------------------------------------------------------------+\n"
     ]
    }
   ],
   "source": [
    "!nvidia-smi"
   ]
  },
  {
   "cell_type": "code",
   "execution_count": null,
   "id": "d0f68698",
   "metadata": {},
   "outputs": [],
   "source": []
  }
 ],
 "metadata": {
  "kernelspec": {
   "display_name": "Python 3 (ipykernel)",
   "language": "python",
   "name": "python3"
  },
  "language_info": {
   "codemirror_mode": {
    "name": "ipython",
    "version": 3
   },
   "file_extension": ".py",
   "mimetype": "text/x-python",
   "name": "python",
   "nbconvert_exporter": "python",
   "pygments_lexer": "ipython3",
   "version": "3.7.12"
  },
  "toc": {
   "base_numbering": 1,
   "nav_menu": {},
   "number_sections": true,
   "sideBar": true,
   "skip_h1_title": false,
   "title_cell": "Table of Contents",
   "title_sidebar": "Contents",
   "toc_cell": false,
   "toc_position": {},
   "toc_section_display": true,
   "toc_window_display": true
  }
 },
 "nbformat": 4,
 "nbformat_minor": 5
}
